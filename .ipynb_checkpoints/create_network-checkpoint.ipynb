{
 "cells": [
  {
   "cell_type": "code",
   "execution_count": 34,
   "metadata": {},
   "outputs": [],
   "source": [
    "import pandas as pd\n",
    "from collections import defaultdict, Counter\n",
    "from itertools import combinations\n",
    "import glob\n",
    "import numpy as np"
   ]
  },
  {
   "cell_type": "code",
   "execution_count": 35,
   "metadata": {},
   "outputs": [],
   "source": [
    "files = glob.glob('data/v1/*.tsv')\n",
    "\n",
    "lst_nodes = []\n",
    "lst_files = []\n",
    "fn_dict = defaultdict(list)\n",
    "cw_dict = defaultdict(list)\n",
    "for filename in files:\n",
    "    df = pd.read_csv(filename,sep='\\t')\n",
    "    df['lab'] = df['span_normalized']+\"|\"+df[\"label\"]\n",
    "    for i in df['span_normalized']:\n",
    "        lst_nodes.append(i)\n",
    "    for i in df['filename']:\n",
    "        for j in i.split(', '):\n",
    "            lst_files.append(j)\n",
    "            lst_files = list(set(lst_files))\n",
    "\n",
    "    for k,v in pd.Series(df.lab.values,index=df.filename).to_dict().items():\n",
    "        for i in k.split(', '):\n",
    "            fn_dict[i].append(v)\n",
    "            cw_dict[v].append(i)\n",
    "\n",
    "count_words = {}\n",
    "for k,v in cw_dict.items():\n",
    "    count_words[k] = len(set(v)) # word counts in corpus\n",
    "\n",
    "d = defaultdict(list)\n",
    "for k,v in fn_dict.items():\n",
    "    for i in combinations(v, 2):\n",
    "        d[tuple(sorted(i))].append(k)\n",
    "df = pd.DataFrame(d.items(), columns=['gram', 'co_docs'])\n",
    "df['from'], df['to'] = list(zip(*((x[0], x[1]) for x in df['gram'].values)))\n",
    "df = df.drop(['gram'],axis=1)\n",
    "df['count_co'] = [len(x) for x in df['co_docs']] # co-occurrence counts in corpus\n",
    "df['co_docs'] = [','.join(x) for x in df['co_docs']]\n",
    "df['count_from'] = df['from'].map(count_words) \n",
    "df['count_to'] = df['to'].map(count_words)\n",
    "df['PMI'] = np.log2((df['count_co']/len(lst_files))/(df['count_from']/len(lst_files)*df['count_to']/len(lst_files)))\n",
    "df['tot_docs'] = len(lst_files)\n",
    "df = df[['from','to','count_from','count_to','count_co','tot_docs','PMI','co_docs']]\n",
    "df.to_csv('structure-ner-shiny/network_files/pairs_table.tsv',sep='\\t',index=None)"
   ]
  },
  {
   "cell_type": "code",
   "execution_count": 36,
   "metadata": {},
   "outputs": [],
   "source": [
    "# prepare files for visNetwork\n",
    "\n",
    "edges = df[['from','to','count_from','count_to','count_co','PMI','co_docs']].copy()\n",
    "edges[['from','from_lab']] = edges['from'].str.split('|',expand=True)\n",
    "edges[['to','to_lab']] = edges['to'].str.split('|',expand=True)\n",
    "edges['from_check'] = edges['from'].map(Counter(lst_nodes)) \n",
    "edges['to_check'] = edges['to'].map(Counter(lst_nodes))\n",
    "\n",
    "lst_edges = []\n",
    "lst_nodes = []\n",
    "for index, row in edges.iterrows():\n",
    "    if row['from_check'] ==  1:\n",
    "        from_col = row['from']\n",
    "    else:\n",
    "        from_col = row['from']+\" (\"+row['from_lab'].lower()+\")\"\n",
    "    if row['to_check'] ==  1:\n",
    "        to_col = row['to']\n",
    "    else:\n",
    "        to_col = row['to']+\" (\"+row['to_lab'].lower()+\")\"\n",
    "    lst_edges.append([from_col,to_col,\n",
    "                      row['count_from'],row['count_to'],row['count_co'],row['PMI']])\n",
    "    lst_nodes.append([from_col,row['from'],row['from_lab']])\n",
    "    lst_nodes.append([to_col,row['to'],row['to_lab']])\n",
    "\n",
    "edges = pd.DataFrame.from_records(lst_edges)\n",
    "edges.columns = ['from','to','count_from','count_to','count_co','PMI']\n",
    "\n",
    "lst_nodes = [list(x) for x in set(tuple(x) for x in lst_nodes)]\n",
    "nodes = pd.DataFrame.from_records(lst_nodes)\n",
    "nodes.columns = ['id','title','group']\n",
    "nodes['label'] = nodes['title']\n",
    "\n",
    "edges.to_csv('structure-ner-shiny/network_files/edges.tsv',sep='\\t',index=None)\n",
    "nodes.to_csv('structure-ner-shiny/network_files/nodes.tsv',sep='\\t',index=None)"
   ]
  }
 ],
 "metadata": {
  "kernelspec": {
   "display_name": "Python 3",
   "language": "python",
   "name": "python3"
  },
  "language_info": {
   "codemirror_mode": {
    "name": "ipython",
    "version": 3
   },
   "file_extension": ".py",
   "mimetype": "text/x-python",
   "name": "python",
   "nbconvert_exporter": "python",
   "pygments_lexer": "ipython3",
   "version": "3.6.9"
  }
 },
 "nbformat": 4,
 "nbformat_minor": 2
}
